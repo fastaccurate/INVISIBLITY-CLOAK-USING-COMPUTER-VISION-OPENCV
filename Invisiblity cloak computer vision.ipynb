{
 "cells": [
  {
   "cell_type": "code",
   "execution_count": 3,
   "id": "ecf2c568",
   "metadata": {},
   "outputs": [
    {
     "ename": "KeyboardInterrupt",
     "evalue": "",
     "output_type": "error",
     "traceback": [
      "\u001b[1;31m---------------------------------------------------------------------------\u001b[0m",
      "\u001b[1;31mKeyboardInterrupt\u001b[0m                         Traceback (most recent call last)",
      "Cell \u001b[1;32mIn[3], line 31\u001b[0m\n\u001b[0;32m     28\u001b[0m     \u001b[38;5;28;01mreturn\u001b[39;00m dilation\n\u001b[0;32m     30\u001b[0m \u001b[38;5;28;01mwhile\u001b[39;00m cap\u001b[38;5;241m.\u001b[39misOpened():\n\u001b[1;32m---> 31\u001b[0m     ret, frame \u001b[38;5;241m=\u001b[39m cap\u001b[38;5;241m.\u001b[39mread()  \u001b[38;5;66;03m# Capture every frame\u001b[39;00m\n\u001b[0;32m     32\u001b[0m     \u001b[38;5;66;03m# convert to hsv colorspace \u001b[39;00m\n\u001b[0;32m     33\u001b[0m     hsv \u001b[38;5;241m=\u001b[39m cv2\u001b[38;5;241m.\u001b[39mcvtColor(frame, cv2\u001b[38;5;241m.\u001b[39mCOLOR_BGR2HSV)\n",
      "\u001b[1;31mKeyboardInterrupt\u001b[0m: "
     ]
    }
   ],
   "source": [
    "# DataFlair Invisible Cloak project using OpenCV.\n",
    "\n",
    "import cv2\n",
    "import time\n",
    "import numpy as np\n",
    "\n",
    "cap = cv2.VideoCapture(0)\n",
    "\n",
    "# Store a single frame as background \n",
    "_, background = cap.read()\n",
    "time.sleep(2)\n",
    "_, background = cap.read()\n",
    "\n",
    "#define all the kernels size  \n",
    "open_kernel = np.ones((5,5),np.uint8)\n",
    "close_kernel = np.ones((7,7),np.uint8)\n",
    "dilation_kernel = np.ones((10, 10), np.uint8)\n",
    "\n",
    "# Function for remove noise from mask \n",
    "def filter_mask(mask):\n",
    "\n",
    "    close_mask = cv2.morphologyEx(mask, cv2.MORPH_CLOSE, close_kernel)\n",
    "\n",
    "    open_mask = cv2.morphologyEx(close_mask, cv2.MORPH_OPEN, open_kernel)\n",
    "\n",
    "    dilation = cv2.dilate(open_mask, dilation_kernel, iterations= 1)\n",
    "\n",
    "    return dilation\n",
    "\n",
    "while cap.isOpened():\n",
    "    ret, frame = cap.read()  # Capture every frame\n",
    "    # convert to hsv colorspace \n",
    "    hsv = cv2.cvtColor(frame, cv2.COLOR_BGR2HSV)\n",
    "\n",
    "    # lower bound and upper bound for Green color \n",
    "    lower_bound = np.array([50, 80, 50])     \n",
    "    upper_bound = np.array([90, 255, 255])\n",
    "    \n",
    "\n",
    "    # find the colors within the boundaries\n",
    "    mask = cv2.inRange(hsv, lower_bound, upper_bound)\n",
    "\n",
    "    # Filter mask\n",
    "    mask = filter_mask(mask)\n",
    "\n",
    "    # Apply the mask to take only those region from the saved background \n",
    "    # where our cloak is present in the current frame\n",
    "    cloak = cv2.bitwise_and(background, background, mask=mask)\n",
    "\n",
    "    # create inverse mask \n",
    "    inverse_mask = cv2.bitwise_not(mask)  \n",
    "\n",
    "    # Apply the inverse mask to take those region of the current frame where cloak is not present \n",
    "    current_background = cv2.bitwise_and(frame, frame, mask=inverse_mask)\n",
    "\n",
    "    # Combine cloak region and current_background region to get final frame \n",
    "    combined = cv2.add(cloak, current_background)\n",
    "\n",
    "    cv2.imshow(\"Final output\", combined)\n",
    "\n",
    "\n",
    "    if cv2.waitKey(1) == ord('q'):\n",
    "        break\n",
    "    \n",
    "cap.release()\n",
    "cv2.destroyAllWindows()\n",
    "\n"
   ]
  }
 ],
 "metadata": {
  "kernelspec": {
   "display_name": "Python 3 (ipykernel)",
   "language": "python",
   "name": "python3"
  },
  "language_info": {
   "codemirror_mode": {
    "name": "ipython",
    "version": 3
   },
   "file_extension": ".py",
   "mimetype": "text/x-python",
   "name": "python",
   "nbconvert_exporter": "python",
   "pygments_lexer": "ipython3",
   "version": "3.11.3"
  }
 },
 "nbformat": 4,
 "nbformat_minor": 5
}
